{
 "cells": [
  {
   "cell_type": "code",
   "execution_count": 7,
   "id": "7c819db8",
   "metadata": {},
   "outputs": [
    {
     "name": "stdout",
     "output_type": "stream",
     "text": [
      "(60000, 28, 28) (60000,)\n"
     ]
    }
   ],
   "source": [
    "import keras\n",
    "from keras.datasets import mnist\n",
    "from keras.models import Sequential\n",
    "from keras.layers import Dense, Dropout, Flatten\n",
    "from keras.layers import Conv2D, MaxPooling2D\n",
    "from keras import backend as K\n",
    "\n",
    "# the data, split between train and test sets\n",
    "(x_train, y_train), (x_test, y_test) = mnist.load_data()\n",
    "\n",
    "print(x_train.shape, y_train.shape)"
   ]
  },
  {
   "cell_type": "code",
   "execution_count": 8,
   "id": "77647710",
   "metadata": {},
   "outputs": [
    {
     "name": "stdout",
     "output_type": "stream",
     "text": [
      "x_train shape: (60000, 28, 28, 1)\n",
      "60000 train samples\n",
      "10000 test samples\n"
     ]
    }
   ],
   "source": [
    "x_train = x_train.reshape(x_train.shape[0], 28, 28, 1)\n",
    "x_test = x_test.reshape(x_test.shape[0], 28, 28, 1)\n",
    "input_shape = (28, 28, 1)\n",
    "\n",
    "num_classes=10\n",
    "# convert class vectors to binary class matrices\n",
    "y_train = keras.utils.to_categorical(y_train, num_classes)\n",
    "y_test = keras.utils.to_categorical(y_test, num_classes)\n",
    "\n",
    "x_train = x_train.astype('float32')\n",
    "x_test = x_test.astype('float32')\n",
    "x_train /= 255\n",
    "x_test /= 255\n",
    "print('x_train shape:', x_train.shape)\n",
    "print(x_train.shape[0], 'train samples')\n",
    "print(x_test.shape[0], 'test samples')"
   ]
  },
  {
   "cell_type": "code",
   "execution_count": 9,
   "id": "2ba2c16d",
   "metadata": {},
   "outputs": [],
   "source": [
    "batch_size = 128\n",
    "num_classes = 10\n",
    "epochs = 10\n",
    "\n",
    "model = Sequential()\n",
    "model.add(Conv2D(32, kernel_size=(3, 3),activation='relu',input_shape=input_shape))\n",
    "model.add(Conv2D(64, (3, 3), activation='relu'))\n",
    "model.add(MaxPooling2D(pool_size=(2, 2)))\n",
    "model.add(Dropout(0.25))\n",
    "model.add(Flatten())\n",
    "model.add(Dense(256, activation='relu'))\n",
    "model.add(Dropout(0.5))\n",
    "model.add(Dense(num_classes, activation='softmax'))\n",
    "\n",
    "model.compile(loss=keras.losses.categorical_crossentropy,optimizer=keras.optimizers.Adadelta(),metrics=['accuracy'])"
   ]
  },
  {
   "cell_type": "code",
   "execution_count": 13,
   "id": "2ef8ccbe",
   "metadata": {},
   "outputs": [
    {
     "name": "stdout",
     "output_type": "stream",
     "text": [
      "Epoch 1/10\n",
      "469/469 [==============================] - 84s 178ms/step - loss: 0.8764 - accuracy: 0.7531 - val_loss: 0.6596 - val_accuracy: 0.8548\n",
      "Epoch 2/10\n",
      "469/469 [==============================] - 86s 183ms/step - loss: 0.8033 - accuracy: 0.7654 - val_loss: 0.5965 - val_accuracy: 0.8634\n",
      "Epoch 3/10\n",
      "469/469 [==============================] - 86s 184ms/step - loss: 0.7484 - accuracy: 0.7783 - val_loss: 0.5497 - val_accuracy: 0.8684\n",
      "Epoch 4/10\n",
      "469/469 [==============================] - 92s 196ms/step - loss: 0.7047 - accuracy: 0.7889 - val_loss: 0.5142 - val_accuracy: 0.8726\n",
      "Epoch 5/10\n",
      "469/469 [==============================] - 93s 199ms/step - loss: 0.6711 - accuracy: 0.7982 - val_loss: 0.4860 - val_accuracy: 0.8764\n",
      "Epoch 6/10\n",
      "469/469 [==============================] - 91s 194ms/step - loss: 0.6437 - accuracy: 0.8069 - val_loss: 0.4629 - val_accuracy: 0.8791\n",
      "Epoch 7/10\n",
      "469/469 [==============================] - 88s 187ms/step - loss: 0.6176 - accuracy: 0.8128 - val_loss: 0.4440 - val_accuracy: 0.8825\n",
      "Epoch 8/10\n",
      "469/469 [==============================] - 85s 181ms/step - loss: 0.5969 - accuracy: 0.8190 - val_loss: 0.4273 - val_accuracy: 0.8864\n",
      "Epoch 9/10\n",
      "469/469 [==============================] - 87s 185ms/step - loss: 0.5802 - accuracy: 0.8239 - val_loss: 0.4135 - val_accuracy: 0.8892\n",
      "Epoch 10/10\n",
      "469/469 [==============================] - 87s 185ms/step - loss: 0.5615 - accuracy: 0.8295 - val_loss: 0.4010 - val_accuracy: 0.8924\n",
      "The model has successfully trained\n"
     ]
    }
   ],
   "source": [
    "hist = model.fit(x_train, y_train,batch_size=batch_size,epochs=epochs,verbose=1,validation_data=(x_test, y_test))\n",
    "print(\"The model has successfully trained\")"
   ]
  },
  {
   "cell_type": "code",
   "execution_count": 14,
   "id": "0c15c5cb",
   "metadata": {},
   "outputs": [
    {
     "name": "stdout",
     "output_type": "stream",
     "text": [
      "Test loss: 0.4010314643383026\n",
      "Test accuracy: 0.8924000263214111\n"
     ]
    }
   ],
   "source": [
    "score = model.evaluate(x_test, y_test, verbose=0)\n",
    "print('Test loss:', score[0])\n",
    "print('Test accuracy:', score[1])"
   ]
  },
  {
   "cell_type": "code",
   "execution_count": 24,
   "id": "0e4931f9",
   "metadata": {},
   "outputs": [
    {
     "name": "stdout",
     "output_type": "stream",
     "text": [
      "Sample Training Images are:\n",
      "\n"
     ]
    },
    {
     "data": {
      "image/png": "[encoded data removed]",
      "text/plain": [
       "<Figure size 720x288 with 5 Axes>"
      ]
     },
     "metadata": {
      "needs_background": "light"
     },
     "output_type": "display_data"
    },
    {
     "name": "stdout",
     "output_type": "stream",
     "text": [
      "Sample Testing Images are:\n",
      "\n"
     ]
    },
    {
     "data": {
      "image/png": "[encoded data removed]",
      "text/plain": [
       "<Figure size 720x288 with 5 Axes>"
      ]
     },
     "metadata": {
      "needs_background": "light"
     },
     "output_type": "display_data"
    }
   ],
   "source": [
    "#one-hot encode the labels\n",
    "#train_labels=tf.keras.utils.to_categorical(train_labels)\n",
    "#test_labels=tf.keras.utils.to_categorical(test_labels)\n",
    "\n",
    "# Select a few random samples from the training and testing sets\n",
    "num_samples = 5  # Number of samples to display\n",
    "random_train_indices = np.random.randint(0, len(x_train), num_samples)\n",
    "random_test_indices = np.random.randint(0, len(x_test), num_samples)\n",
    "\n",
    "# Display the sample training images\n",
    "print(\"Sample Training Images are:\\n\")\n",
    "plt.figure(figsize=(10, 4))\n",
    "for i, index in enumerate(random_train_indices):\n",
    "    plt.subplot(1, num_samples, i+1)\n",
    "    plt.imshow(x_train[index], cmap='gray')\n",
    "    plt.title(f\"Label: {y_train[index]}\")\n",
    "    plt.axis('off')\n",
    "plt.tight_layout()\n",
    "plt.show()\n",
    "\n",
    "# Display the sample testing images\n",
    "print(\"Sample Testing Images are:\\n\")\n",
    "plt.figure(figsize=(10, 4))\n",
    "for i, index in enumerate(random_test_indices):\n",
    "    plt.subplot(1, num_samples, i+1)\n",
    "    plt.imshow(x_test[index], cmap='gray')\n",
    "    plt.title(f\"Label: {y_test[index]}\")\n",
    "    plt.axis('off')\n",
    "plt.tight_layout()\n",
    "plt.show()\n"
   ]
  },
  {
   "cell_type": "code",
   "execution_count": null,
   "id": "ffae55d8",
   "metadata": {},
   "outputs": [],
   "source": []
  }
 ],
 "metadata": {
  "kernelspec": {
   "display_name": "Python 3 (ipykernel)",
   "language": "python",
   "name": "python3"
  },
  "language_info": {
   "codemirror_mode": {
    "name": "ipython",
    "version": 3
   },
   "file_extension": ".py",
   "mimetype": "text/x-python",
   "name": "python",
   "nbconvert_exporter": "python",
   "pygments_lexer": "ipython3",
   "version": "3.9.12"
  }
 },
 "nbformat": 4,
 "nbformat_minor": 5
}
